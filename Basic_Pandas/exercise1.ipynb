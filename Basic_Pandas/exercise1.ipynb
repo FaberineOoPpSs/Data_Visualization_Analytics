{
 "cells": [
  {
   "cell_type": "code",
   "execution_count": 1,
   "id": "5bc0b16c",
   "metadata": {},
   "outputs": [],
   "source": [
    "import pandas as pd"
   ]
  },
  {
   "cell_type": "markdown",
   "id": "4a0a68fd",
   "metadata": {},
   "source": [
    "### Q1.Create a dataframe with details of 10 students and columns as Roll Number, Name, Gender, Marks1, Marks2, Marks3"
   ]
  },
  {
   "cell_type": "code",
   "execution_count": 2,
   "id": "11e2a320",
   "metadata": {},
   "outputs": [
    {
     "data": {
      "text/html": [
       "<div>\n",
       "<style scoped>\n",
       "    .dataframe tbody tr th:only-of-type {\n",
       "        vertical-align: middle;\n",
       "    }\n",
       "\n",
       "    .dataframe tbody tr th {\n",
       "        vertical-align: top;\n",
       "    }\n",
       "\n",
       "    .dataframe thead th {\n",
       "        text-align: right;\n",
       "    }\n",
       "</style>\n",
       "<table border=\"1\" class=\"dataframe\">\n",
       "  <thead>\n",
       "    <tr style=\"text-align: right;\">\n",
       "      <th></th>\n",
       "      <th>RollNo</th>\n",
       "      <th>Name</th>\n",
       "      <th>Gender</th>\n",
       "      <th>Marks1</th>\n",
       "      <th>Marks2</th>\n",
       "      <th>Marks3</th>\n",
       "    </tr>\n",
       "  </thead>\n",
       "  <tbody>\n",
       "    <tr>\n",
       "      <th>0</th>\n",
       "      <td>1</td>\n",
       "      <td>Aviral</td>\n",
       "      <td>M</td>\n",
       "      <td>23</td>\n",
       "      <td>25</td>\n",
       "      <td>26</td>\n",
       "    </tr>\n",
       "    <tr>\n",
       "      <th>1</th>\n",
       "      <td>2</td>\n",
       "      <td>Avi</td>\n",
       "      <td>F</td>\n",
       "      <td>45</td>\n",
       "      <td>34</td>\n",
       "      <td>22</td>\n",
       "    </tr>\n",
       "    <tr>\n",
       "      <th>2</th>\n",
       "      <td>3</td>\n",
       "      <td>Anukriti</td>\n",
       "      <td>F</td>\n",
       "      <td>12</td>\n",
       "      <td>49</td>\n",
       "      <td>39</td>\n",
       "    </tr>\n",
       "    <tr>\n",
       "      <th>3</th>\n",
       "      <td>4</td>\n",
       "      <td>Chestha</td>\n",
       "      <td>F</td>\n",
       "      <td>33</td>\n",
       "      <td>34</td>\n",
       "      <td>35</td>\n",
       "    </tr>\n",
       "    <tr>\n",
       "      <th>4</th>\n",
       "      <td>5</td>\n",
       "      <td>Dinesh</td>\n",
       "      <td>M</td>\n",
       "      <td>45</td>\n",
       "      <td>48</td>\n",
       "      <td>41</td>\n",
       "    </tr>\n",
       "    <tr>\n",
       "      <th>5</th>\n",
       "      <td>6</td>\n",
       "      <td>Palak</td>\n",
       "      <td>F</td>\n",
       "      <td>40</td>\n",
       "      <td>11</td>\n",
       "      <td>13</td>\n",
       "    </tr>\n",
       "    <tr>\n",
       "      <th>6</th>\n",
       "      <td>7</td>\n",
       "      <td>Rishabh</td>\n",
       "      <td>M</td>\n",
       "      <td>39</td>\n",
       "      <td>40</td>\n",
       "      <td>41</td>\n",
       "    </tr>\n",
       "    <tr>\n",
       "      <th>7</th>\n",
       "      <td>8</td>\n",
       "      <td>Sourabh</td>\n",
       "      <td>M</td>\n",
       "      <td>23</td>\n",
       "      <td>28</td>\n",
       "      <td>29</td>\n",
       "    </tr>\n",
       "    <tr>\n",
       "      <th>8</th>\n",
       "      <td>9</td>\n",
       "      <td>Naman</td>\n",
       "      <td>M</td>\n",
       "      <td>22</td>\n",
       "      <td>22</td>\n",
       "      <td>22</td>\n",
       "    </tr>\n",
       "    <tr>\n",
       "      <th>9</th>\n",
       "      <td>10</td>\n",
       "      <td>Vivek</td>\n",
       "      <td>M</td>\n",
       "      <td>50</td>\n",
       "      <td>49</td>\n",
       "      <td>48</td>\n",
       "    </tr>\n",
       "  </tbody>\n",
       "</table>\n",
       "</div>"
      ],
      "text/plain": [
       "   RollNo      Name Gender  Marks1  Marks2  Marks3\n",
       "0       1    Aviral      M      23      25      26\n",
       "1       2       Avi      F      45      34      22\n",
       "2       3  Anukriti      F      12      49      39\n",
       "3       4   Chestha      F      33      34      35\n",
       "4       5    Dinesh      M      45      48      41\n",
       "5       6     Palak      F      40      11      13\n",
       "6       7   Rishabh      M      39      40      41\n",
       "7       8   Sourabh      M      23      28      29\n",
       "8       9     Naman      M      22      22      22\n",
       "9      10     Vivek      M      50      49      48"
      ]
     },
     "execution_count": 2,
     "metadata": {},
     "output_type": "execute_result"
    }
   ],
   "source": [
    "data = [[1, 'Aviral', 'M', 23, 25, 26], [2, 'Avi', 'F', 45, 34, 22], [3, 'Anukriti', 'F', 12, 49, 39], [4, 'Chestha', 'F', 33, 34, 35],\n",
    "           [5, 'Dinesh', 'M', 45, 48, 41], [6, 'Palak', 'F', 40, 11, 13], [7, 'Rishabh', 'M', 39, 40, 41],\n",
    "            [8, 'Sourabh', 'M', 23, 28, 29], [9, 'Naman', 'M', 22, 22, 22], [10, 'Vivek', 'M', 50, 49, 48]] \n",
    "df = pd.DataFrame(data, columns = ['RollNo', 'Name', 'Gender', 'Marks1', 'Marks2', 'Marks3'])\n",
    "df"
   ]
  },
  {
   "cell_type": "markdown",
   "id": "6344ad11",
   "metadata": {},
   "source": [
    "### Q2.Create a new column with total marks"
   ]
  },
  {
   "cell_type": "code",
   "execution_count": 3,
   "id": "7541b187",
   "metadata": {},
   "outputs": [
    {
     "data": {
      "text/html": [
       "<div>\n",
       "<style scoped>\n",
       "    .dataframe tbody tr th:only-of-type {\n",
       "        vertical-align: middle;\n",
       "    }\n",
       "\n",
       "    .dataframe tbody tr th {\n",
       "        vertical-align: top;\n",
       "    }\n",
       "\n",
       "    .dataframe thead th {\n",
       "        text-align: right;\n",
       "    }\n",
       "</style>\n",
       "<table border=\"1\" class=\"dataframe\">\n",
       "  <thead>\n",
       "    <tr style=\"text-align: right;\">\n",
       "      <th></th>\n",
       "      <th>RollNo</th>\n",
       "      <th>Name</th>\n",
       "      <th>Gender</th>\n",
       "      <th>Marks1</th>\n",
       "      <th>Marks2</th>\n",
       "      <th>Marks3</th>\n",
       "      <th>Total Marks</th>\n",
       "    </tr>\n",
       "  </thead>\n",
       "  <tbody>\n",
       "    <tr>\n",
       "      <th>0</th>\n",
       "      <td>1</td>\n",
       "      <td>Aviral</td>\n",
       "      <td>M</td>\n",
       "      <td>23</td>\n",
       "      <td>25</td>\n",
       "      <td>26</td>\n",
       "      <td>74</td>\n",
       "    </tr>\n",
       "    <tr>\n",
       "      <th>1</th>\n",
       "      <td>2</td>\n",
       "      <td>Avi</td>\n",
       "      <td>F</td>\n",
       "      <td>45</td>\n",
       "      <td>34</td>\n",
       "      <td>22</td>\n",
       "      <td>101</td>\n",
       "    </tr>\n",
       "    <tr>\n",
       "      <th>2</th>\n",
       "      <td>3</td>\n",
       "      <td>Anukriti</td>\n",
       "      <td>F</td>\n",
       "      <td>12</td>\n",
       "      <td>49</td>\n",
       "      <td>39</td>\n",
       "      <td>100</td>\n",
       "    </tr>\n",
       "    <tr>\n",
       "      <th>3</th>\n",
       "      <td>4</td>\n",
       "      <td>Chestha</td>\n",
       "      <td>F</td>\n",
       "      <td>33</td>\n",
       "      <td>34</td>\n",
       "      <td>35</td>\n",
       "      <td>102</td>\n",
       "    </tr>\n",
       "    <tr>\n",
       "      <th>4</th>\n",
       "      <td>5</td>\n",
       "      <td>Dinesh</td>\n",
       "      <td>M</td>\n",
       "      <td>45</td>\n",
       "      <td>48</td>\n",
       "      <td>41</td>\n",
       "      <td>134</td>\n",
       "    </tr>\n",
       "    <tr>\n",
       "      <th>5</th>\n",
       "      <td>6</td>\n",
       "      <td>Palak</td>\n",
       "      <td>F</td>\n",
       "      <td>40</td>\n",
       "      <td>11</td>\n",
       "      <td>13</td>\n",
       "      <td>64</td>\n",
       "    </tr>\n",
       "    <tr>\n",
       "      <th>6</th>\n",
       "      <td>7</td>\n",
       "      <td>Rishabh</td>\n",
       "      <td>M</td>\n",
       "      <td>39</td>\n",
       "      <td>40</td>\n",
       "      <td>41</td>\n",
       "      <td>120</td>\n",
       "    </tr>\n",
       "    <tr>\n",
       "      <th>7</th>\n",
       "      <td>8</td>\n",
       "      <td>Sourabh</td>\n",
       "      <td>M</td>\n",
       "      <td>23</td>\n",
       "      <td>28</td>\n",
       "      <td>29</td>\n",
       "      <td>80</td>\n",
       "    </tr>\n",
       "    <tr>\n",
       "      <th>8</th>\n",
       "      <td>9</td>\n",
       "      <td>Naman</td>\n",
       "      <td>M</td>\n",
       "      <td>22</td>\n",
       "      <td>22</td>\n",
       "      <td>22</td>\n",
       "      <td>66</td>\n",
       "    </tr>\n",
       "    <tr>\n",
       "      <th>9</th>\n",
       "      <td>10</td>\n",
       "      <td>Vivek</td>\n",
       "      <td>M</td>\n",
       "      <td>50</td>\n",
       "      <td>49</td>\n",
       "      <td>48</td>\n",
       "      <td>147</td>\n",
       "    </tr>\n",
       "  </tbody>\n",
       "</table>\n",
       "</div>"
      ],
      "text/plain": [
       "   RollNo      Name Gender  Marks1  Marks2  Marks3  Total Marks\n",
       "0       1    Aviral      M      23      25      26           74\n",
       "1       2       Avi      F      45      34      22          101\n",
       "2       3  Anukriti      F      12      49      39          100\n",
       "3       4   Chestha      F      33      34      35          102\n",
       "4       5    Dinesh      M      45      48      41          134\n",
       "5       6     Palak      F      40      11      13           64\n",
       "6       7   Rishabh      M      39      40      41          120\n",
       "7       8   Sourabh      M      23      28      29           80\n",
       "8       9     Naman      M      22      22      22           66\n",
       "9      10     Vivek      M      50      49      48          147"
      ]
     },
     "execution_count": 3,
     "metadata": {},
     "output_type": "execute_result"
    }
   ],
   "source": [
    "totalMarks = df[['Marks1', 'Marks2', 'Marks3']].sum(axis = 1)\n",
    "df['Total Marks'] = totalMarks\n",
    "df"
   ]
  },
  {
   "cell_type": "markdown",
   "id": "89f11af8",
   "metadata": {},
   "source": [
    "### Q3.Find the lowest marks in Marks1"
   ]
  },
  {
   "cell_type": "code",
   "execution_count": 4,
   "id": "71f64c66",
   "metadata": {},
   "outputs": [
    {
     "name": "stdout",
     "output_type": "stream",
     "text": [
      "Lowest marsk in Marks1 is:  12\n"
     ]
    }
   ],
   "source": [
    "lowestMarks1 = df['Marks1'].min()\n",
    "print(\"Lowest marsk in Marks1 is: \", lowestMarks1)"
   ]
  },
  {
   "cell_type": "markdown",
   "id": "238cf4eb",
   "metadata": {},
   "source": [
    "### Q4.Find the highest marks in Marks2"
   ]
  },
  {
   "cell_type": "code",
   "execution_count": 5,
   "id": "29536c82",
   "metadata": {},
   "outputs": [
    {
     "name": "stdout",
     "output_type": "stream",
     "text": [
      "Highest marks in Marks2 is:  49\n"
     ]
    }
   ],
   "source": [
    "highestMarks2 = df['Marks2'].max()\n",
    "print(\"Highest marks in Marks2 is: \", highestMarks2)"
   ]
  },
  {
   "cell_type": "markdown",
   "id": "cf177f6f",
   "metadata": {},
   "source": [
    "### Q5.Find the average marks in Marks3"
   ]
  },
  {
   "cell_type": "code",
   "execution_count": 6,
   "id": "1fe92f2c",
   "metadata": {},
   "outputs": [
    {
     "name": "stdout",
     "output_type": "stream",
     "text": [
      "Average marks in Marks3:  31.6\n"
     ]
    }
   ],
   "source": [
    "avgMarks3 = df['Marks3'].mean()\n",
    "print(\"Average marks in Marks3: \", avgMarks3)"
   ]
  },
  {
   "cell_type": "markdown",
   "id": "37d06c6f",
   "metadata": {},
   "source": [
    "### Q6.Find the student name with highest average"
   ]
  },
  {
   "cell_type": "code",
   "execution_count": 7,
   "id": "217997a8",
   "metadata": {},
   "outputs": [
    {
     "name": "stdout",
     "output_type": "stream",
     "text": [
      "Student with highest average is:  Vivek\n"
     ]
    }
   ],
   "source": [
    "highestAvgId = int(df[['Marks1', 'Marks2', 'Marks3']].mean(axis = 1).idxmax())\n",
    "highAvgStdName = df.iloc[highestAvgId, 1]\n",
    "print(\"Student with highest average is: \", highAvgStdName)"
   ]
  },
  {
   "cell_type": "markdown",
   "id": "7b8709e7",
   "metadata": {},
   "source": [
    "### Q7.Find how many students failed in Marks2"
   ]
  },
  {
   "cell_type": "code",
   "execution_count": 8,
   "id": "d4137981",
   "metadata": {},
   "outputs": [
    {
     "name": "stdout",
     "output_type": "stream",
     "text": [
      "Number of students failed in Marks2 are:  6\n"
     ]
    }
   ],
   "source": [
    "failedInMarks2 = df[df['Marks2'] < 40]\n",
    "print(\"Number of students failed in Marks2 are: \", failedInMarks2['Name'].count())"
   ]
  },
  {
   "cell_type": "code",
   "execution_count": null,
   "id": "48564d2b",
   "metadata": {},
   "outputs": [],
   "source": []
  }
 ],
 "metadata": {
  "kernelspec": {
   "display_name": "Python 3",
   "language": "python",
   "name": "python3"
  },
  "language_info": {
   "codemirror_mode": {
    "name": "ipython",
    "version": 3
   },
   "file_extension": ".py",
   "mimetype": "text/x-python",
   "name": "python",
   "nbconvert_exporter": "python",
   "pygments_lexer": "ipython3",
   "version": "3.8.8"
  }
 },
 "nbformat": 4,
 "nbformat_minor": 5
}
