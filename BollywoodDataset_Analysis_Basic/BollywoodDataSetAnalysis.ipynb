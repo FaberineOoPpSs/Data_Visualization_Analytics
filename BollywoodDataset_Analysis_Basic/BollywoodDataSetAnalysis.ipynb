{
 "cells": [
  {
   "cell_type": "markdown",
   "id": "7e9982d2",
   "metadata": {},
   "source": [
    "## Week 2\n",
    "### Metadata:\n",
    "\n",
    "• SlNo <br>\n",
    "• Release Date <br>\n",
    "• MovieName – Name of the movie <br> \n",
    "• ReleaseTime – Mentions special time of release. LW (Long weekend), FS (Festive Season), HS (Holiday Season), N (Normal) <br>\n",
    "• Genre – Genre of the film such as Romance, Thriller, Action, Comedy, etc <br>\n",
    "• Budget – Movie creation budget <br>\n",
    "• BoxOfficeCollection – Box office collection <br>\n",
    "• YoutubeViews – Number of views of the YouTube trailers <br>\n",
    "• YoutubeLikes – Number of likes of the YouTube trailers <br>\n",
    "• YoutubeDislikes – Number of dislikes of the YouTube trailers<br>"
   ]
  },
  {
   "cell_type": "markdown",
   "id": "a0689762",
   "metadata": {},
   "source": [
    "### Importing packages"
   ]
  },
  {
   "cell_type": "code",
   "execution_count": 1,
   "id": "7276b6bb",
   "metadata": {},
   "outputs": [],
   "source": [
    "import pandas as pd\n",
    "import matplotlib.pyplot as plt\n",
    "import seaborn as sns\n",
    "import numpy as np\n",
    "%matplotlib inline"
   ]
  },
  {
   "cell_type": "markdown",
   "id": "df0b9696",
   "metadata": {},
   "source": [
    "### Importing Dataset"
   ]
  },
  {
   "cell_type": "code",
   "execution_count": 2,
   "id": "56fe60ab",
   "metadata": {},
   "outputs": [
    {
     "data": {
      "text/html": [
       "<div>\n",
       "<style scoped>\n",
       "    .dataframe tbody tr th:only-of-type {\n",
       "        vertical-align: middle;\n",
       "    }\n",
       "\n",
       "    .dataframe tbody tr th {\n",
       "        vertical-align: top;\n",
       "    }\n",
       "\n",
       "    .dataframe thead th {\n",
       "        text-align: right;\n",
       "    }\n",
       "</style>\n",
       "<table border=\"1\" class=\"dataframe\">\n",
       "  <thead>\n",
       "    <tr style=\"text-align: right;\">\n",
       "      <th></th>\n",
       "      <th>SlNo</th>\n",
       "      <th>Release Date</th>\n",
       "      <th>MovieName</th>\n",
       "      <th>ReleaseTime</th>\n",
       "      <th>Genre</th>\n",
       "      <th>Budget</th>\n",
       "      <th>BoxOfficeCollection</th>\n",
       "      <th>YoutubeViews</th>\n",
       "      <th>YoutubeLikes</th>\n",
       "      <th>YoutubeDislikes</th>\n",
       "    </tr>\n",
       "  </thead>\n",
       "  <tbody>\n",
       "    <tr>\n",
       "      <th>0</th>\n",
       "      <td>1</td>\n",
       "      <td>18-Apr-14</td>\n",
       "      <td>2 States</td>\n",
       "      <td>LW</td>\n",
       "      <td>Romance</td>\n",
       "      <td>36</td>\n",
       "      <td>104.00</td>\n",
       "      <td>8576361</td>\n",
       "      <td>26622</td>\n",
       "      <td>2527</td>\n",
       "    </tr>\n",
       "    <tr>\n",
       "      <th>1</th>\n",
       "      <td>2</td>\n",
       "      <td>4-Jan-13</td>\n",
       "      <td>Table No. 21</td>\n",
       "      <td>N</td>\n",
       "      <td>Thriller</td>\n",
       "      <td>10</td>\n",
       "      <td>12.00</td>\n",
       "      <td>1087320</td>\n",
       "      <td>1129</td>\n",
       "      <td>137</td>\n",
       "    </tr>\n",
       "    <tr>\n",
       "      <th>2</th>\n",
       "      <td>3</td>\n",
       "      <td>18-Jul-14</td>\n",
       "      <td>Amit Sahni Ki List</td>\n",
       "      <td>N</td>\n",
       "      <td>Comedy</td>\n",
       "      <td>10</td>\n",
       "      <td>4.00</td>\n",
       "      <td>572336</td>\n",
       "      <td>586</td>\n",
       "      <td>54</td>\n",
       "    </tr>\n",
       "    <tr>\n",
       "      <th>3</th>\n",
       "      <td>4</td>\n",
       "      <td>4-Jan-13</td>\n",
       "      <td>Rajdhani Express</td>\n",
       "      <td>N</td>\n",
       "      <td>Drama</td>\n",
       "      <td>7</td>\n",
       "      <td>0.35</td>\n",
       "      <td>42626</td>\n",
       "      <td>86</td>\n",
       "      <td>19</td>\n",
       "    </tr>\n",
       "    <tr>\n",
       "      <th>4</th>\n",
       "      <td>5</td>\n",
       "      <td>4-Jul-14</td>\n",
       "      <td>Bobby Jasoos</td>\n",
       "      <td>N</td>\n",
       "      <td>Comedy</td>\n",
       "      <td>18</td>\n",
       "      <td>10.80</td>\n",
       "      <td>3113427</td>\n",
       "      <td>4512</td>\n",
       "      <td>1224</td>\n",
       "    </tr>\n",
       "    <tr>\n",
       "      <th>...</th>\n",
       "      <td>...</td>\n",
       "      <td>...</td>\n",
       "      <td>...</td>\n",
       "      <td>...</td>\n",
       "      <td>...</td>\n",
       "      <td>...</td>\n",
       "      <td>...</td>\n",
       "      <td>...</td>\n",
       "      <td>...</td>\n",
       "      <td>...</td>\n",
       "    </tr>\n",
       "    <tr>\n",
       "      <th>144</th>\n",
       "      <td>145</td>\n",
       "      <td>27-Feb-15</td>\n",
       "      <td>Dum Laga Ke Haisha</td>\n",
       "      <td>N</td>\n",
       "      <td>Comedy</td>\n",
       "      <td>15</td>\n",
       "      <td>30.00</td>\n",
       "      <td>3250917</td>\n",
       "      <td>8185</td>\n",
       "      <td>615</td>\n",
       "    </tr>\n",
       "    <tr>\n",
       "      <th>145</th>\n",
       "      <td>146</td>\n",
       "      <td>13-Mar-15</td>\n",
       "      <td>NH10</td>\n",
       "      <td>N</td>\n",
       "      <td>Thriller</td>\n",
       "      <td>13</td>\n",
       "      <td>32.10</td>\n",
       "      <td>5592977</td>\n",
       "      <td>15464</td>\n",
       "      <td>1513</td>\n",
       "    </tr>\n",
       "    <tr>\n",
       "      <th>146</th>\n",
       "      <td>147</td>\n",
       "      <td>20-Mar-15</td>\n",
       "      <td>Dilliwali Zaalim Girlfriend</td>\n",
       "      <td>N</td>\n",
       "      <td>Comedy</td>\n",
       "      <td>32</td>\n",
       "      <td>12.00</td>\n",
       "      <td>2316047</td>\n",
       "      <td>4289</td>\n",
       "      <td>807</td>\n",
       "    </tr>\n",
       "    <tr>\n",
       "      <th>147</th>\n",
       "      <td>148</td>\n",
       "      <td>20-Mar-15</td>\n",
       "      <td>Hunterrr</td>\n",
       "      <td>N</td>\n",
       "      <td>Comedy</td>\n",
       "      <td>5</td>\n",
       "      <td>11.89</td>\n",
       "      <td>4674795</td>\n",
       "      <td>3706</td>\n",
       "      <td>762</td>\n",
       "    </tr>\n",
       "    <tr>\n",
       "      <th>148</th>\n",
       "      <td>149</td>\n",
       "      <td>23-May-14</td>\n",
       "      <td>Kochadaiiyaan</td>\n",
       "      <td>HS</td>\n",
       "      <td>Action</td>\n",
       "      <td>150</td>\n",
       "      <td>120.00</td>\n",
       "      <td>4740727</td>\n",
       "      <td>13466</td>\n",
       "      <td>2649</td>\n",
       "    </tr>\n",
       "  </tbody>\n",
       "</table>\n",
       "<p>149 rows × 10 columns</p>\n",
       "</div>"
      ],
      "text/plain": [
       "     SlNo Release Date                    MovieName ReleaseTime      Genre  \\\n",
       "0       1    18-Apr-14                     2 States          LW    Romance   \n",
       "1       2     4-Jan-13                 Table No. 21           N  Thriller    \n",
       "2       3    18-Jul-14           Amit Sahni Ki List           N     Comedy   \n",
       "3       4     4-Jan-13             Rajdhani Express           N     Drama    \n",
       "4       5     4-Jul-14                 Bobby Jasoos           N     Comedy   \n",
       "..    ...          ...                          ...         ...        ...   \n",
       "144   145    27-Feb-15           Dum Laga Ke Haisha           N     Comedy   \n",
       "145   146    13-Mar-15                         NH10           N   Thriller   \n",
       "146   147    20-Mar-15  Dilliwali Zaalim Girlfriend           N     Comedy   \n",
       "147   148    20-Mar-15                     Hunterrr           N     Comedy   \n",
       "148   149    23-May-14                Kochadaiiyaan          HS     Action   \n",
       "\n",
       "     Budget  BoxOfficeCollection  YoutubeViews  YoutubeLikes  YoutubeDislikes  \n",
       "0        36               104.00       8576361         26622             2527  \n",
       "1        10                12.00       1087320          1129              137  \n",
       "2        10                 4.00        572336           586               54  \n",
       "3         7                 0.35         42626            86               19  \n",
       "4        18                10.80       3113427          4512             1224  \n",
       "..      ...                  ...           ...           ...              ...  \n",
       "144      15                30.00       3250917          8185              615  \n",
       "145      13                32.10       5592977         15464             1513  \n",
       "146      32                12.00       2316047          4289              807  \n",
       "147       5                11.89       4674795          3706              762  \n",
       "148     150               120.00       4740727         13466             2649  \n",
       "\n",
       "[149 rows x 10 columns]"
      ]
     },
     "execution_count": 2,
     "metadata": {},
     "output_type": "execute_result"
    }
   ],
   "source": [
    "df = pd.read_csv(\"bollywood.csv\")\n",
    "df"
   ]
  },
  {
   "cell_type": "markdown",
   "id": "febe5560",
   "metadata": {},
   "source": [
    "#### Total number of records in Dataset"
   ]
  },
  {
   "cell_type": "code",
   "execution_count": 3,
   "id": "949f5acd",
   "metadata": {},
   "outputs": [
    {
     "name": "stdout",
     "output_type": "stream",
     "text": [
      "No of records present in dataset is:  149\n"
     ]
    }
   ],
   "source": [
    "print(\"No of records present in dataset is: \", df['SlNo'].count())"
   ]
  },
  {
   "cell_type": "markdown",
   "id": "c245efca",
   "metadata": {},
   "source": [
    "#### Movies released in each genre"
   ]
  },
  {
   "cell_type": "code",
   "execution_count": 4,
   "id": "b9379fab",
   "metadata": {},
   "outputs": [
    {
     "name": "stdout",
     "output_type": "stream",
     "text": [
      "Total movies released in each genre are:\n",
      " Comedy      36\n",
      "Drama       35\n",
      "Thriller    29\n",
      "Romance     25\n",
      "Action      24\n",
      "Name: Genre, dtype: int64\n"
     ]
    }
   ],
   "source": [
    "df['Genre'] = df['Genre'].str.strip()\n",
    "print(\"Total movies released in each genre are:\\n\",df['Genre'].value_counts())"
   ]
  },
  {
   "cell_type": "markdown",
   "id": "f7e36b56",
   "metadata": {},
   "source": [
    "#### Genre with highest number of releases"
   ]
  },
  {
   "cell_type": "code",
   "execution_count": 5,
   "id": "e8982eea",
   "metadata": {},
   "outputs": [
    {
     "name": "stdout",
     "output_type": "stream",
     "text": [
      "Genre with highest no. of releases:  Comedy\n"
     ]
    }
   ],
   "source": [
    "print(\"Genre with highest no. of releases: \", df['Genre'].value_counts(ascending = False).idxmax())"
   ]
  },
  {
   "cell_type": "markdown",
   "id": "888e83c6",
   "metadata": {},
   "source": [
    "#### Number of movies released in each genre in different seasons"
   ]
  },
  {
   "cell_type": "code",
   "execution_count": 6,
   "id": "1cc6b05f",
   "metadata": {},
   "outputs": [
    {
     "data": {
      "text/html": [
       "<div>\n",
       "<style scoped>\n",
       "    .dataframe tbody tr th:only-of-type {\n",
       "        vertical-align: middle;\n",
       "    }\n",
       "\n",
       "    .dataframe tbody tr th {\n",
       "        vertical-align: top;\n",
       "    }\n",
       "\n",
       "    .dataframe thead th {\n",
       "        text-align: right;\n",
       "    }\n",
       "</style>\n",
       "<table border=\"1\" class=\"dataframe\">\n",
       "  <thead>\n",
       "    <tr style=\"text-align: right;\">\n",
       "      <th>ReleaseTime</th>\n",
       "      <th>FS</th>\n",
       "      <th>HS</th>\n",
       "      <th>LW</th>\n",
       "      <th>N</th>\n",
       "    </tr>\n",
       "    <tr>\n",
       "      <th>Genre</th>\n",
       "      <th></th>\n",
       "      <th></th>\n",
       "      <th></th>\n",
       "      <th></th>\n",
       "    </tr>\n",
       "  </thead>\n",
       "  <tbody>\n",
       "    <tr>\n",
       "      <th>Action</th>\n",
       "      <td>3</td>\n",
       "      <td>3</td>\n",
       "      <td>3</td>\n",
       "      <td>15</td>\n",
       "    </tr>\n",
       "    <tr>\n",
       "      <th>Comedy</th>\n",
       "      <td>3</td>\n",
       "      <td>5</td>\n",
       "      <td>5</td>\n",
       "      <td>23</td>\n",
       "    </tr>\n",
       "    <tr>\n",
       "      <th>Drama</th>\n",
       "      <td>4</td>\n",
       "      <td>6</td>\n",
       "      <td>1</td>\n",
       "      <td>24</td>\n",
       "    </tr>\n",
       "    <tr>\n",
       "      <th>Romance</th>\n",
       "      <td>3</td>\n",
       "      <td>3</td>\n",
       "      <td>4</td>\n",
       "      <td>15</td>\n",
       "    </tr>\n",
       "    <tr>\n",
       "      <th>Thriller</th>\n",
       "      <td>4</td>\n",
       "      <td>1</td>\n",
       "      <td>2</td>\n",
       "      <td>22</td>\n",
       "    </tr>\n",
       "  </tbody>\n",
       "</table>\n",
       "</div>"
      ],
      "text/plain": [
       "ReleaseTime  FS  HS  LW   N\n",
       "Genre                      \n",
       "Action        3   3   3  15\n",
       "Comedy        3   5   5  23\n",
       "Drama         4   6   1  24\n",
       "Romance       3   3   4  15\n",
       "Thriller      4   1   2  22"
      ]
     },
     "execution_count": 6,
     "metadata": {},
     "output_type": "execute_result"
    }
   ],
   "source": [
    "pd.crosstab(df['Genre'], df['ReleaseTime'])"
   ]
  },
  {
   "cell_type": "markdown",
   "id": "951c39df",
   "metadata": {},
   "source": [
    "#### Month of the year which observes higest number of releases"
   ]
  },
  {
   "cell_type": "code",
   "execution_count": 7,
   "id": "9e2ceeb7",
   "metadata": {},
   "outputs": [
    {
     "name": "stdout",
     "output_type": "stream",
     "text": [
      "Month with max number of movie releases:  December\n"
     ]
    }
   ],
   "source": [
    "import calendar\n",
    "month = pd.to_datetime(df['Release Date'])\n",
    "print(\"Month with max number of movie releases: \",calendar.month_name[(int(month.dt.month.max()))])"
   ]
  },
  {
   "cell_type": "markdown",
   "id": "d234b783",
   "metadata": {},
   "source": [
    "#### Month of the year which observes most highest budget movies(more than 25 crores)"
   ]
  },
  {
   "cell_type": "code",
   "execution_count": 8,
   "id": "996d96a2",
   "metadata": {},
   "outputs": [
    {
     "name": "stdout",
     "output_type": "stream",
     "text": [
      "Month with release of high budget movies: February\n"
     ]
    },
    {
     "name": "stderr",
     "output_type": "stream",
     "text": [
      "F:\\edit_py\\lib\\site-packages\\pandas\\core\\indexing.py:1676: SettingWithCopyWarning: \n",
      "A value is trying to be set on a copy of a slice from a DataFrame.\n",
      "Try using .loc[row_indexer,col_indexer] = value instead\n",
      "\n",
      "See the caveats in the documentation: https://pandas.pydata.org/pandas-docs/stable/user_guide/indexing.html#returning-a-view-versus-a-copy\n",
      "  self._setitem_single_column(ilocs[0], value, pi)\n"
     ]
    }
   ],
   "source": [
    "#df['Release Date'] = pd.to_datetime(df['Release Date'])\n",
    "data = df[['Release Date', 'Budget']]\n",
    "data.iloc[0 : , 0] = pd.to_datetime(data['Release Date'])\n",
    "data.iloc[0 : , 0] = data['Release Date'].dt.month\n",
    "data = data.groupby('Release Date')['Budget'].apply(lambda x: x[x > 25].count())\n",
    "data = pd.DataFrame(data)\n",
    "mnth = data.idxmax()\n",
    "print(\"Month with release of high budget movies:\", calendar.month_name[int(mnth)])"
   ]
  },
  {
   "cell_type": "markdown",
   "id": "b36401f6",
   "metadata": {},
   "source": [
    "#### Movies with highest ROIs?"
   ]
  },
  {
   "cell_type": "code",
   "execution_count": 9,
   "id": "81283fa5",
   "metadata": {},
   "outputs": [
    {
     "name": "stdout",
     "output_type": "stream",
     "text": [
      "Top 10 movies with maximum ROI are:\n",
      " 64                    Aashiqui 2\n",
      "89                            PK\n",
      "132                  Grand Masti\n",
      "135                 The Lunchbox\n",
      "87                        Fukrey\n",
      "58                      Mary Kom\n",
      "128                       Shahid\n",
      "37     Humpty Sharma Ki Dulhania\n",
      "101           Bhaag Milkha Bhaag\n",
      "115              Chennai Express\n",
      "Name: MovieName, dtype: object\n"
     ]
    }
   ],
   "source": [
    "ROI = pd.DataFrame(((df['BoxOfficeCollection'] - df['Budget']) / df['Budget']))\n",
    "indexROI = ROI.nlargest(10, 0).index\n",
    "print(\"Top 10 movies with maximum ROI are:\\n\", df.iloc[indexROI, 2])"
   ]
  },
  {
   "cell_type": "markdown",
   "id": "a3927b1c",
   "metadata": {},
   "source": [
    "#### Do movies have higher ROI if they get released on festive seasons or long weekend?"
   ]
  },
  {
   "cell_type": "code",
   "execution_count": 10,
   "id": "5f75fe67",
   "metadata": {},
   "outputs": [
    {
     "name": "stdout",
     "output_type": "stream",
     "text": [
      "Average ROI of different festive seasons are:\n",
      " ReleaseTime\n",
      "FS    0.973853\n",
      "HS    0.850867\n",
      "LW    1.127205\n",
      "N     0.657722\n",
      "Name: ROI, dtype: float64\n",
      "\n",
      "Seasons with highest ROIs are:  ReleaseTime\n",
      "LW    1.127205\n",
      "FS    0.973853\n",
      "Name: ROI, dtype: float64\n"
     ]
    }
   ],
   "source": [
    "df['ROI'] = ROI\n",
    "print(\"Average ROI of different festive seasons are:\\n\", df.groupby('ReleaseTime')['ROI'].mean())\n",
    "largest2 = df.groupby('ReleaseTime')['ROI'].mean()\n",
    "print(\"\\nSeasons with highest ROIs are: \", largest2.nlargest(2))"
   ]
  },
  {
   "cell_type": "markdown",
   "id": "46f19410",
   "metadata": {},
   "source": [
    "Movies have higher ROIs if they are released during Long Weekends or festive seasons."
   ]
  },
  {
   "cell_type": "markdown",
   "id": "a11978ec",
   "metadata": {},
   "source": [
    "#### Correlation between box office collection and youtube likes?"
   ]
  },
  {
   "cell_type": "code",
   "execution_count": 11,
   "id": "3ef5ee0e",
   "metadata": {},
   "outputs": [
    {
     "name": "stdout",
     "output_type": "stream",
     "text": [
      "The correlation b/w box office collection & YouTube likes is:  0.6825165877731297\n",
      "The correlation is positive\n"
     ]
    }
   ],
   "source": [
    "correlation = df['BoxOfficeCollection'].corr( df['YoutubeLikes'])\n",
    "print(\"The correlation b/w box office collection & YouTube likes is: \", correlation)\n",
    "if(correlation > 0):\n",
    "    print(\"The correlation is positive\")\n",
    "else:\n",
    "    print(\"The correlation is negative\")"
   ]
  },
  {
   "cell_type": "markdown",
   "id": "6358d4a1",
   "metadata": {},
   "source": [
    "#### Visualizing genre of movie that typically sees more youtube likes."
   ]
  },
  {
   "cell_type": "code",
   "execution_count": 12,
   "id": "1c57d22a",
   "metadata": {},
   "outputs": [
    {
     "data": {
      "text/plain": [
       "<AxesSubplot:xlabel='Genre', ylabel='YoutubeLikes'>"
      ]
     },
     "execution_count": 12,
     "metadata": {},
     "output_type": "execute_result"
    },
    {
     "data": {
      "image/png": "[encoded data removed]",
      "text/plain": [
       "<Figure size 432x288 with 1 Axes>"
      ]
     },
     "metadata": {
      "needs_background": "light"
     },
     "output_type": "display_data"
    }
   ],
   "source": [
    "df['YoutubeLikes']\n",
    "sns.boxplot(data = df, x = 'Genre', y = 'YoutubeLikes')"
   ]
  },
  {
   "cell_type": "markdown",
   "id": "a9c82fb9",
   "metadata": {},
   "source": [
    "#### Q11. Which of the variables among Budget, BoxOfficeCollection, YoutubeView, YoutubeLikes, YoutubeDislikes are highly correlated?"
   ]
  },
  {
   "cell_type": "code",
   "execution_count": 13,
   "id": "9028c725",
   "metadata": {},
   "outputs": [
    {
     "data": {
      "text/plain": [
       "<AxesSubplot:>"
      ]
     },
     "execution_count": 13,
     "metadata": {},
     "output_type": "execute_result"
    },
    {
     "data": {
      "image/png": "[encoded data removed]",
      "text/plain": [
       "<Figure size 432x288 with 2 Axes>"
      ]
     },
     "metadata": {
      "needs_background": "light"
     },
     "output_type": "display_data"
    }
   ],
   "source": [
    "corr_mat = df[['Budget', 'BoxOfficeCollection', 'YoutubeViews', 'YoutubeLikes', 'YoutubeDislikes']].corr()\n",
    "sns.heatmap(corr_mat, annot = True, fmt = '.2g', cmap = 'coolwarm')"
   ]
  },
  {
   "cell_type": "code",
   "execution_count": 14,
   "id": "69feca63",
   "metadata": {},
   "outputs": [
    {
     "data": {
      "text/html": [
       "<div>\n",
       "<style scoped>\n",
       "    .dataframe tbody tr th:only-of-type {\n",
       "        vertical-align: middle;\n",
       "    }\n",
       "\n",
       "    .dataframe tbody tr th {\n",
       "        vertical-align: top;\n",
       "    }\n",
       "\n",
       "    .dataframe thead th {\n",
       "        text-align: right;\n",
       "    }\n",
       "</style>\n",
       "<table border=\"1\" class=\"dataframe\">\n",
       "  <thead>\n",
       "    <tr style=\"text-align: right;\">\n",
       "      <th></th>\n",
       "      <th>Budget</th>\n",
       "      <th>BoxOfficeCollection</th>\n",
       "      <th>YoutubeViews</th>\n",
       "      <th>YoutubeLikes</th>\n",
       "      <th>YoutubeDislikes</th>\n",
       "    </tr>\n",
       "  </thead>\n",
       "  <tbody>\n",
       "    <tr>\n",
       "      <th>Budget</th>\n",
       "      <td>1.000000</td>\n",
       "      <td>0.650401</td>\n",
       "      <td>0.589038</td>\n",
       "      <td>0.608916</td>\n",
       "      <td>0.665343</td>\n",
       "    </tr>\n",
       "    <tr>\n",
       "      <th>BoxOfficeCollection</th>\n",
       "      <td>0.650401</td>\n",
       "      <td>1.000000</td>\n",
       "      <td>0.588632</td>\n",
       "      <td>0.682517</td>\n",
       "      <td>0.623941</td>\n",
       "    </tr>\n",
       "    <tr>\n",
       "      <th>YoutubeViews</th>\n",
       "      <td>0.589038</td>\n",
       "      <td>0.588632</td>\n",
       "      <td>1.000000</td>\n",
       "      <td>0.884055</td>\n",
       "      <td>0.846739</td>\n",
       "    </tr>\n",
       "    <tr>\n",
       "      <th>YoutubeLikes</th>\n",
       "      <td>0.608916</td>\n",
       "      <td>0.682517</td>\n",
       "      <td>0.884055</td>\n",
       "      <td>1.000000</td>\n",
       "      <td>0.859730</td>\n",
       "    </tr>\n",
       "    <tr>\n",
       "      <th>YoutubeDislikes</th>\n",
       "      <td>0.665343</td>\n",
       "      <td>0.623941</td>\n",
       "      <td>0.846739</td>\n",
       "      <td>0.859730</td>\n",
       "      <td>1.000000</td>\n",
       "    </tr>\n",
       "  </tbody>\n",
       "</table>\n",
       "</div>"
      ],
      "text/plain": [
       "                       Budget  BoxOfficeCollection  YoutubeViews  \\\n",
       "Budget               1.000000             0.650401      0.589038   \n",
       "BoxOfficeCollection  0.650401             1.000000      0.588632   \n",
       "YoutubeViews         0.589038             0.588632      1.000000   \n",
       "YoutubeLikes         0.608916             0.682517      0.884055   \n",
       "YoutubeDislikes      0.665343             0.623941      0.846739   \n",
       "\n",
       "                     YoutubeLikes  YoutubeDislikes  \n",
       "Budget                   0.608916         0.665343  \n",
       "BoxOfficeCollection      0.682517         0.623941  \n",
       "YoutubeViews             0.884055         0.846739  \n",
       "YoutubeLikes             1.000000         0.859730  \n",
       "YoutubeDislikes          0.859730         1.000000  "
      ]
     },
     "execution_count": 14,
     "metadata": {},
     "output_type": "execute_result"
    }
   ],
   "source": [
    "corr_mat"
   ]
  },
  {
   "cell_type": "markdown",
   "id": "06f341f0",
   "metadata": {},
   "source": [
    "From the correlation matrix we can say that Youtube Views and Youtube Likes are highly correlated. Also More the Youtube Likes likely means there is good chance of high Box office collection"
   ]
  },
  {
   "cell_type": "markdown",
   "id": "84e5754b",
   "metadata": {},
   "source": [
    "#### Highlighting & visualizing the genre of movies and theirbox office collection in the period of 2013-2015"
   ]
  },
  {
   "cell_type": "code",
   "execution_count": 15,
   "id": "c4b8bcf2",
   "metadata": {},
   "outputs": [
    {
     "name": "stderr",
     "output_type": "stream",
     "text": [
      "F:\\edit_py\\lib\\site-packages\\seaborn\\_decorators.py:36: FutureWarning: Pass the following variables as keyword args: x, y. From version 0.12, the only valid positional argument will be `data`, and passing other arguments without an explicit keyword will result in an error or misinterpretation.\n",
      "  warnings.warn(\n"
     ]
    },
    {
     "data": {
      "text/plain": [
       "<AxesSubplot:xlabel='Genre', ylabel='BoxOfficeCollection'>"
      ]
     },
     "execution_count": 15,
     "metadata": {},
     "output_type": "execute_result"
    },
    {
     "data": {
      "image/png": "[encoded data removed]",
      "text/plain": [
       "<Figure size 432x288 with 1 Axes>"
      ]
     },
     "metadata": {
      "needs_background": "light"
     },
     "output_type": "display_data"
    }
   ],
   "source": [
    "year = pd.DataFrame(df, columns =['Release Date', 'Genre', 'BoxOfficeCollection'])\n",
    "year['Release Date'] = pd.to_datetime(year['Release Date'])\n",
    "msk = (year['Release Date'].dt.year > 2012) & (year['Release Date'].dt.year < 2016)\n",
    "year = year.loc[msk]\n",
    "sns.barplot(year['Genre'], year['BoxOfficeCollection'])"
   ]
  },
  {
   "cell_type": "markdown",
   "id": "950e7b67",
   "metadata": {},
   "source": [
    "#### Visualizing the Budget and Box office collection based on Genre"
   ]
  },
  {
   "cell_type": "code",
   "execution_count": 16,
   "id": "deca17f5",
   "metadata": {},
   "outputs": [
    {
     "data": {
      "text/plain": [
       "<AxesSubplot:xlabel='Genre'>"
      ]
     },
     "execution_count": 16,
     "metadata": {},
     "output_type": "execute_result"
    },
    {
     "data": {
      "image/png": "[encoded data removed]",
      "text/plain": [
       "<Figure size 432x288 with 1 Axes>"
      ]
     },
     "metadata": {
      "needs_background": "light"
     },
     "output_type": "display_data"
    }
   ],
   "source": [
    "a = df.groupby('Genre')[['Budget', 'BoxOfficeCollection']].agg('mean')\n",
    "a.plot(kind = 'bar')"
   ]
  },
  {
   "cell_type": "markdown",
   "id": "18c96ed1",
   "metadata": {},
   "source": [
    "#### Distribution of movie budget for every Genre"
   ]
  },
  {
   "cell_type": "code",
   "execution_count": 17,
   "id": "a8c01ec6",
   "metadata": {},
   "outputs": [
    {
     "data": {
      "text/plain": [
       "Genre\n",
       "Action      AxesSubplot(0.125,0.125;0.775x0.755)\n",
       "Comedy      AxesSubplot(0.125,0.125;0.775x0.755)\n",
       "Drama       AxesSubplot(0.125,0.125;0.775x0.755)\n",
       "Romance     AxesSubplot(0.125,0.125;0.775x0.755)\n",
       "Thriller    AxesSubplot(0.125,0.125;0.775x0.755)\n",
       "Name: Budget, dtype: object"
      ]
     },
     "execution_count": 17,
     "metadata": {},
     "output_type": "execute_result"
    },
    {
     "data": {
      "image/png": "[encoded data removed]",
      "text/plain": [
       "<Figure size 432x288 with 1 Axes>"
      ]
     },
     "metadata": {
      "needs_background": "light"
     },
     "output_type": "display_data"
    }
   ],
   "source": [
    "dist = df.groupby('Genre')['Budget']\n",
    "dist.hist()"
   ]
  },
  {
   "cell_type": "markdown",
   "id": "c37c313b",
   "metadata": {},
   "source": [
    "#### Number of movies released every year from 2013 to 2015"
   ]
  },
  {
   "cell_type": "code",
   "execution_count": 18,
   "id": "afbeea14",
   "metadata": {},
   "outputs": [
    {
     "name": "stderr",
     "output_type": "stream",
     "text": [
      "<ipython-input-18-143527404b35>:2: SettingWithCopyWarning: \n",
      "A value is trying to be set on a copy of a slice from a DataFrame.\n",
      "Try using .loc[row_indexer,col_indexer] = value instead\n",
      "\n",
      "See the caveats in the documentation: https://pandas.pydata.org/pandas-docs/stable/user_guide/indexing.html#returning-a-view-versus-a-copy\n",
      "  moviesReleased['Release Date'] = pd.to_datetime(moviesReleased['Release Date'])\n",
      "<ipython-input-18-143527404b35>:3: SettingWithCopyWarning: \n",
      "A value is trying to be set on a copy of a slice from a DataFrame.\n",
      "Try using .loc[row_indexer,col_indexer] = value instead\n",
      "\n",
      "See the caveats in the documentation: https://pandas.pydata.org/pandas-docs/stable/user_guide/indexing.html#returning-a-view-versus-a-copy\n",
      "  moviesReleased['Release Date'] = moviesReleased['Release Date'].dt.year\n"
     ]
    },
    {
     "data": {
      "text/plain": [
       "Release Date\n",
       "2013    67\n",
       "2014    70\n",
       "2015    12\n",
       "Name: MovieName, dtype: int64"
      ]
     },
     "execution_count": 18,
     "metadata": {},
     "output_type": "execute_result"
    }
   ],
   "source": [
    "moviesReleased = df[['Release Date', 'MovieName']]\n",
    "moviesReleased['Release Date'] = pd.to_datetime(moviesReleased['Release Date'])\n",
    "moviesReleased['Release Date'] = moviesReleased['Release Date'].dt.year\n",
    "mcount = moviesReleased.groupby('Release Date')['MovieName'].count()\n",
    "mcount"
   ]
  },
  {
   "cell_type": "code",
   "execution_count": 19,
   "id": "45467a34",
   "metadata": {},
   "outputs": [
    {
     "data": {
      "text/plain": [
       "<AxesSubplot:xlabel='Release Date'>"
      ]
     },
     "execution_count": 19,
     "metadata": {},
     "output_type": "execute_result"
    },
    {
     "data": {
      "image/png": "[encoded data removed]",
      "text/plain": [
       "<Figure size 432x288 with 1 Axes>"
      ]
     },
     "metadata": {
      "needs_background": "light"
     },
     "output_type": "display_data"
    }
   ],
   "source": [
    "sns.barplot(x = mcount.index, y = mcount.values)"
   ]
  },
  {
   "cell_type": "markdown",
   "id": "a6ab6c1c",
   "metadata": {},
   "source": [
    "#### Extra knowledge"
   ]
  },
  {
   "cell_type": "code",
   "execution_count": 20,
   "id": "e4655cd2",
   "metadata": {},
   "outputs": [
    {
     "name": "stdout",
     "output_type": "stream",
     "text": [
      "Movie with highest box office collection:  PK\n",
      "Movie with lowest box office collection:  Gangoobai\n"
     ]
    }
   ],
   "source": [
    "print(\"Movie with highest box office collection: \",df.iloc[df['BoxOfficeCollection'].idxmax(), 2])\n",
    "print(\"Movie with lowest box office collection: \",df.iloc[df['BoxOfficeCollection'].idxmin(), 2])"
   ]
  },
  {
   "cell_type": "code",
   "execution_count": null,
   "id": "a4c81d80",
   "metadata": {},
   "outputs": [],
   "source": []
  }
 ],
 "metadata": {
  "kernelspec": {
   "display_name": "Python 3",
   "language": "python",
   "name": "python3"
  },
  "language_info": {
   "codemirror_mode": {
    "name": "ipython",
    "version": 3
   },
   "file_extension": ".py",
   "mimetype": "text/x-python",
   "name": "python",
   "nbconvert_exporter": "python",
   "pygments_lexer": "ipython3",
   "version": "3.8.8"
  }
 },
 "nbformat": 4,
 "nbformat_minor": 5
}
